{
 "cells": [
  {
   "cell_type": "markdown",
   "metadata": {},
   "source": [
    "## lets insert some neural net in here\n",
    "train a convolutionnal neural network to perform this inverse transformation.\n",
    "\n",
    "Maybe something interesting will come up in the convolutionnal filters ?"
   ]
  }
 ],
 "metadata": {
  "kernelspec": {
   "display_name": "Pykeras",
   "language": "python",
   "name": "pykeras"
  },
  "language_info": {
   "codemirror_mode": {
    "name": "ipython",
    "version": 3
   },
   "file_extension": ".py",
   "mimetype": "text/x-python",
   "name": "python",
   "nbconvert_exporter": "python",
   "pygments_lexer": "ipython3",
   "version": "3.6.10"
  }
 },
 "nbformat": 4,
 "nbformat_minor": 2
}
